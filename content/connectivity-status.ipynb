{
  "cells": [
    {
      "cell_type": "code",
      "metadata": {},
      "source": [
        "import warnings\n",
        "import pandas as pd\n",
        "import numpy as np\n",
        "import python.api_calls as api\n",
        "import python.connectivity_assess as conn_table\n",
        "\n",
        "warnings.filterwarnings('ignore')"
      ],
      "id": "f92afd4a",
      "execution_count": null,
      "outputs": []
    },
    {
      "cell_type": "markdown",
      "metadata": {},
      "source": [
        "# Key Ecological Attributes and Current Connectivity Status {-}\n",
        "\n",
        "The planning team devised three Key Ecological Attributes (KEAs) and associated indicators to assess the current connectivity status of the watershed – Accessible Off-channel Thermal Refuge, Accessible Spawning Habitat, and Accessible Rearing Habitat. KEAs are the key aspects of anadromous salmonid ecology that are being targeted by this WCRP. The connectivity status for the Anadromous Salmonids KEAs were used to establish goals to improve habitat connectivity in the watershed and will be the baseline against which progress is tracked over time.\n",
        "\n",
        "The current connectivity status assessments for Accessible Spawning Habitat and Accessible Rearing habitat rely on GIS analyses to map known and modelled barriers to fish passage, identify stream reaches that have potential spawning and rearing habitat, estimate the proportion of habitat that is currently accessible to target species, and prioritize barriers for field assessment that would provide the greatest gains in connectivity. To support a flexible prioritization framework to identify priority barriers in the watershed, two assumptions are made: 1) any modelled (i.e., passability status is unknown) or partial barriers are treated as complete barriers to passage and 2) the habitat modelling is binary, it does not assign any habitat quality values. As such, the current connectivity status will be refined over time as more data on habitat and barriers are collected. For more detail on how the connectivity status assessments were conducted, see [data methods](content/data-methods.qmd).\n"
      ],
      "id": "923221c2"
    },
    {
      "cell_type": "code",
      "metadata": {},
      "source": [
        "#| warning: false\n",
        "#| echo: false\n",
        "\n",
        "#| label: tbl-connectivity\n",
        "#| tbl-cap: \"Connectivity status assessment for thermal refuge (a), spawning (b), and rearing (c) habitat in the Lower Nicola River watershed. The Accessible Spawning Habitat and Accessible Rearing Habitat KEAs are evaluated by dividing the length of linear habitat (of each type) that is currently accessible to target species by the total length of all linear habitat (of each type) in the watershed.\"\n",
        "#| warning: false\n",
        "#| echo: false\n",
        "\n",
        "df = conn_table.make_assess_table(\"Andromous Salmon\", \"Available off-channel Thermal Refuge\", \"Total Area (m2) of thermal refuge accessible\", \"?\", \" ?\", \"? \", api.connect)\n",
        "df\n"
      ],
      "id": "dcdd6127",
      "execution_count": null,
      "outputs": []
    },
    {
      "cell_type": "markdown",
      "metadata": {},
      "source": [
        "**Comments:** No baseline data exists on the extent of overwintering habitat in the watershed. A priority action is included in the Operational Plan (strategy 2.3) to develop a habitat layer, and this will be used to inform this connectivity status assessment in the future.\n"
      ],
      "id": "91b6233a"
    },
    {
      "cell_type": "code",
      "metadata": {},
      "source": [
        "#| warning: false\n",
        "#| echo: false\n",
        "df = conn_table.make_assess_table(\"Target Species\", \"Available Spawning Habitat\", \"% of total linear spawning habitat accessible\", 25, 50, 75, api.connect)\n",
        "df"
      ],
      "id": "766ac19a",
      "execution_count": null,
      "outputs": []
    },
    {
      "cell_type": "markdown",
      "metadata": {},
      "source": [
        "**Comments:** Indicator rating definitions are based on the consensus decisions of the planning team, including the decision not to define Fair. The current status is based on the CWF Barrier Prioritization Model output, which is current as of March 2022.\n"
      ],
      "id": "fe8f4232"
    },
    {
      "cell_type": "code",
      "metadata": {},
      "source": [
        "df = conn_table.make_assess_table(\"Anadromous Salmonids\", \"Available Rearing Habitat\", \"% of total linear rearing habitat accessible\", 25, 50, 75, api.connect)\n",
        "df"
      ],
      "id": "e8d1b628",
      "execution_count": null,
      "outputs": []
    },
    {
      "cell_type": "markdown",
      "metadata": {},
      "source": [
        "## Goals {-}\n"
      ],
      "id": "fec7e9f8"
    },
    {
      "cell_type": "code",
      "metadata": {},
      "source": [
        "#| label: tbl-goals\n",
        "#| tbl-cap: 'Goals to improve (1) off-channel thermal refuge, (2) spawning, and (3) rearing habitat connectivity for target species in the Lower Nicola River watershed over the lifespan of the WCRP (2021-2031). The goals were established through discussions with the planning team and represent the resulting desired state of connectivity in the watershed. The goals are subject to change as more information and data are collected over the course of the plan timeline (e.g., the current connectivity status is updated based on barrier field assessments).'\n",
        "#| warning: false\n",
        "#| echo: false\n",
        "\n",
        "#creating table 7\n",
        "import warnings\n",
        "\n",
        "warnings.filterwarnings('ignore')\n",
        "import pandas as pd\n",
        "import numpy as np\n",
        "\n",
        "df = pd.DataFrame({\"Goal #\": [1,2,3],\n",
        "                   \"Goal\": [\"By 2031, the total area of groundwater-serviced off-channel thermal refuge accessible to anadromous salmonids will increase by 6,000 m2 within the Lower Nicola River watershed. \",\n",
        "                            \"By 2025, the % of total linear spawning habitat accessible to anadromous salmonids will not decrease below \"+str(api.connect_spawn)+\"% within the Lower Nicola River watershed.  \",\n",
        "                            \"By 2031, the % of total linear rearing habitat accessible to anadromous salmonids will increase from \"+str(api.connect_rear)+\"% to 90% within the Lower Nicola River watershed.\" ]\n",
        "                    })\n",
        "\n",
        "data = df.style.hide().set_properties(**{'text-align': 'left'})\n",
        "\n",
        "data.set_table_styles(\n",
        "   [{\n",
        "       'selector': 'th',\n",
        "       'props': [('background-color', '#008270'),('text-align', 'left')]\n",
        "   }])"
      ],
      "id": "tbl-goals",
      "execution_count": null,
      "outputs": []
    }
  ],
  "metadata": {
    "kernelspec": {
      "display_name": "Python 3",
      "language": "python",
      "name": "python3"
    }
  },
  "nbformat": 4,
  "nbformat_minor": 5
}